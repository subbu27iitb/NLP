{
  "nbformat": 4,
  "nbformat_minor": 0,
  "metadata": {
    "colab": {
      "name": "KNN Classifier-CV-Grid Search.ipynb",
      "provenance": [],
      "authorship_tag": "ABX9TyNKZcY7jU44/5QNz8uz6SzZ",
      "include_colab_link": true
    },
    "kernelspec": {
      "name": "python3",
      "display_name": "Python 3"
    },
    "language_info": {
      "name": "python"
    }
  },
  "cells": [
    {
      "cell_type": "markdown",
      "metadata": {
        "id": "view-in-github",
        "colab_type": "text"
      },
      "source": [
        "<a href=\"https://colab.research.google.com/github/subbu27iitb/NLP/blob/main/KNN_Classifier_CV_Grid_Search.ipynb\" target=\"_parent\"><img src=\"https://colab.research.google.com/assets/colab-badge.svg\" alt=\"Open In Colab\"/></a>"
      ]
    },
    {
      "cell_type": "markdown",
      "metadata": {
        "id": "tqzf0uBbmp_v"
      },
      "source": [
        "**1. Upload the Dataset.**\n",
        "\n",
        "**2. Encode Categorical feature into Numerical feature.**\n",
        "\n",
        "**3. Split Train & Test Datasets.**\n",
        "\n",
        "**4. Grid search or Cross validation and find the Best hyper parameter - (k - no. of nearest neighbors).** \n",
        "\n",
        "**5. Predict the 'y' against 'X_test'**\n",
        "\n",
        "**6. Print Classification Report**"
      ]
    },
    {
      "cell_type": "markdown",
      "metadata": {
        "id": "EsgmVYYCnbEC"
      },
      "source": [
        "1. Upload the Dataset"
      ]
    },
    {
      "cell_type": "code",
      "metadata": {
        "colab": {
          "resources": {
            "http://localhost:8080/nbextensions/google.colab/files.js": {
              "data": "Ly8gQ29weXJpZ2h0IDIwMTcgR29vZ2xlIExMQwovLwovLyBMaWNlbnNlZCB1bmRlciB0aGUgQXBhY2hlIExpY2Vuc2UsIFZlcnNpb24gMi4wICh0aGUgIkxpY2Vuc2UiKTsKLy8geW91IG1heSBub3QgdXNlIHRoaXMgZmlsZSBleGNlcHQgaW4gY29tcGxpYW5jZSB3aXRoIHRoZSBMaWNlbnNlLgovLyBZb3UgbWF5IG9idGFpbiBhIGNvcHkgb2YgdGhlIExpY2Vuc2UgYXQKLy8KLy8gICAgICBodHRwOi8vd3d3LmFwYWNoZS5vcmcvbGljZW5zZXMvTElDRU5TRS0yLjAKLy8KLy8gVW5sZXNzIHJlcXVpcmVkIGJ5IGFwcGxpY2FibGUgbGF3IG9yIGFncmVlZCB0byBpbiB3cml0aW5nLCBzb2Z0d2FyZQovLyBkaXN0cmlidXRlZCB1bmRlciB0aGUgTGljZW5zZSBpcyBkaXN0cmlidXRlZCBvbiBhbiAiQVMgSVMiIEJBU0lTLAovLyBXSVRIT1VUIFdBUlJBTlRJRVMgT1IgQ09ORElUSU9OUyBPRiBBTlkgS0lORCwgZWl0aGVyIGV4cHJlc3Mgb3IgaW1wbGllZC4KLy8gU2VlIHRoZSBMaWNlbnNlIGZvciB0aGUgc3BlY2lmaWMgbGFuZ3VhZ2UgZ292ZXJuaW5nIHBlcm1pc3Npb25zIGFuZAovLyBsaW1pdGF0aW9ucyB1bmRlciB0aGUgTGljZW5zZS4KCi8qKgogKiBAZmlsZW92ZXJ2aWV3IEhlbHBlcnMgZm9yIGdvb2dsZS5jb2xhYiBQeXRob24gbW9kdWxlLgogKi8KKGZ1bmN0aW9uKHNjb3BlKSB7CmZ1bmN0aW9uIHNwYW4odGV4dCwgc3R5bGVBdHRyaWJ1dGVzID0ge30pIHsKICBjb25zdCBlbGVtZW50ID0gZG9jdW1lbnQuY3JlYXRlRWxlbWVudCgnc3BhbicpOwogIGVsZW1lbnQudGV4dENvbnRlbnQgPSB0ZXh0OwogIGZvciAoY29uc3Qga2V5IG9mIE9iamVjdC5rZXlzKHN0eWxlQXR0cmlidXRlcykpIHsKICAgIGVsZW1lbnQuc3R5bGVba2V5XSA9IHN0eWxlQXR0cmlidXRlc1trZXldOwogIH0KICByZXR1cm4gZWxlbWVudDsKfQoKLy8gTWF4IG51bWJlciBvZiBieXRlcyB3aGljaCB3aWxsIGJlIHVwbG9hZGVkIGF0IGEgdGltZS4KY29uc3QgTUFYX1BBWUxPQURfU0laRSA9IDEwMCAqIDEwMjQ7CgpmdW5jdGlvbiBfdXBsb2FkRmlsZXMoaW5wdXRJZCwgb3V0cHV0SWQpIHsKICBjb25zdCBzdGVwcyA9IHVwbG9hZEZpbGVzU3RlcChpbnB1dElkLCBvdXRwdXRJZCk7CiAgY29uc3Qgb3V0cHV0RWxlbWVudCA9IGRvY3VtZW50LmdldEVsZW1lbnRCeUlkKG91dHB1dElkKTsKICAvLyBDYWNoZSBzdGVwcyBvbiB0aGUgb3V0cHV0RWxlbWVudCB0byBtYWtlIGl0IGF2YWlsYWJsZSBmb3IgdGhlIG5leHQgY2FsbAogIC8vIHRvIHVwbG9hZEZpbGVzQ29udGludWUgZnJvbSBQeXRob24uCiAgb3V0cHV0RWxlbWVudC5zdGVwcyA9IHN0ZXBzOwoKICByZXR1cm4gX3VwbG9hZEZpbGVzQ29udGludWUob3V0cHV0SWQpOwp9CgovLyBUaGlzIGlzIHJvdWdobHkgYW4gYXN5bmMgZ2VuZXJhdG9yIChub3Qgc3VwcG9ydGVkIGluIHRoZSBicm93c2VyIHlldCksCi8vIHdoZXJlIHRoZXJlIGFyZSBtdWx0aXBsZSBhc3luY2hyb25vdXMgc3RlcHMgYW5kIHRoZSBQeXRob24gc2lkZSBpcyBnb2luZwovLyB0byBwb2xsIGZvciBjb21wbGV0aW9uIG9mIGVhY2ggc3RlcC4KLy8gVGhpcyB1c2VzIGEgUHJvbWlzZSB0byBibG9jayB0aGUgcHl0aG9uIHNpZGUgb24gY29tcGxldGlvbiBvZiBlYWNoIHN0ZXAsCi8vIHRoZW4gcGFzc2VzIHRoZSByZXN1bHQgb2YgdGhlIHByZXZpb3VzIHN0ZXAgYXMgdGhlIGlucHV0IHRvIHRoZSBuZXh0IHN0ZXAuCmZ1bmN0aW9uIF91cGxvYWRGaWxlc0NvbnRpbnVlKG91dHB1dElkKSB7CiAgY29uc3Qgb3V0cHV0RWxlbWVudCA9IGRvY3VtZW50LmdldEVsZW1lbnRCeUlkKG91dHB1dElkKTsKICBjb25zdCBzdGVwcyA9IG91dHB1dEVsZW1lbnQuc3RlcHM7CgogIGNvbnN0IG5leHQgPSBzdGVwcy5uZXh0KG91dHB1dEVsZW1lbnQubGFzdFByb21pc2VWYWx1ZSk7CiAgcmV0dXJuIFByb21pc2UucmVzb2x2ZShuZXh0LnZhbHVlLnByb21pc2UpLnRoZW4oKHZhbHVlKSA9PiB7CiAgICAvLyBDYWNoZSB0aGUgbGFzdCBwcm9taXNlIHZhbHVlIHRvIG1ha2UgaXQgYXZhaWxhYmxlIHRvIHRoZSBuZXh0CiAgICAvLyBzdGVwIG9mIHRoZSBnZW5lcmF0b3IuCiAgICBvdXRwdXRFbGVtZW50Lmxhc3RQcm9taXNlVmFsdWUgPSB2YWx1ZTsKICAgIHJldHVybiBuZXh0LnZhbHVlLnJlc3BvbnNlOwogIH0pOwp9CgovKioKICogR2VuZXJhdG9yIGZ1bmN0aW9uIHdoaWNoIGlzIGNhbGxlZCBiZXR3ZWVuIGVhY2ggYXN5bmMgc3RlcCBvZiB0aGUgdXBsb2FkCiAqIHByb2Nlc3MuCiAqIEBwYXJhbSB7c3RyaW5nfSBpbnB1dElkIEVsZW1lbnQgSUQgb2YgdGhlIGlucHV0IGZpbGUgcGlja2VyIGVsZW1lbnQuCiAqIEBwYXJhbSB7c3RyaW5nfSBvdXRwdXRJZCBFbGVtZW50IElEIG9mIHRoZSBvdXRwdXQgZGlzcGxheS4KICogQHJldHVybiB7IUl0ZXJhYmxlPCFPYmplY3Q+fSBJdGVyYWJsZSBvZiBuZXh0IHN0ZXBzLgogKi8KZnVuY3Rpb24qIHVwbG9hZEZpbGVzU3RlcChpbnB1dElkLCBvdXRwdXRJZCkgewogIGNvbnN0IGlucHV0RWxlbWVudCA9IGRvY3VtZW50LmdldEVsZW1lbnRCeUlkKGlucHV0SWQpOwogIGlucHV0RWxlbWVudC5kaXNhYmxlZCA9IGZhbHNlOwoKICBjb25zdCBvdXRwdXRFbGVtZW50ID0gZG9jdW1lbnQuZ2V0RWxlbWVudEJ5SWQob3V0cHV0SWQpOwogIG91dHB1dEVsZW1lbnQuaW5uZXJIVE1MID0gJyc7CgogIGNvbnN0IHBpY2tlZFByb21pc2UgPSBuZXcgUHJvbWlzZSgocmVzb2x2ZSkgPT4gewogICAgaW5wdXRFbGVtZW50LmFkZEV2ZW50TGlzdGVuZXIoJ2NoYW5nZScsIChlKSA9PiB7CiAgICAgIHJlc29sdmUoZS50YXJnZXQuZmlsZXMpOwogICAgfSk7CiAgfSk7CgogIGNvbnN0IGNhbmNlbCA9IGRvY3VtZW50LmNyZWF0ZUVsZW1lbnQoJ2J1dHRvbicpOwogIGlucHV0RWxlbWVudC5wYXJlbnRFbGVtZW50LmFwcGVuZENoaWxkKGNhbmNlbCk7CiAgY2FuY2VsLnRleHRDb250ZW50ID0gJ0NhbmNlbCB1cGxvYWQnOwogIGNvbnN0IGNhbmNlbFByb21pc2UgPSBuZXcgUHJvbWlzZSgocmVzb2x2ZSkgPT4gewogICAgY2FuY2VsLm9uY2xpY2sgPSAoKSA9PiB7CiAgICAgIHJlc29sdmUobnVsbCk7CiAgICB9OwogIH0pOwoKICAvLyBXYWl0IGZvciB0aGUgdXNlciB0byBwaWNrIHRoZSBmaWxlcy4KICBjb25zdCBmaWxlcyA9IHlpZWxkIHsKICAgIHByb21pc2U6IFByb21pc2UucmFjZShbcGlja2VkUHJvbWlzZSwgY2FuY2VsUHJvbWlzZV0pLAogICAgcmVzcG9uc2U6IHsKICAgICAgYWN0aW9uOiAnc3RhcnRpbmcnLAogICAgfQogIH07CgogIGNhbmNlbC5yZW1vdmUoKTsKCiAgLy8gRGlzYWJsZSB0aGUgaW5wdXQgZWxlbWVudCBzaW5jZSBmdXJ0aGVyIHBpY2tzIGFyZSBub3QgYWxsb3dlZC4KICBpbnB1dEVsZW1lbnQuZGlzYWJsZWQgPSB0cnVlOwoKICBpZiAoIWZpbGVzKSB7CiAgICByZXR1cm4gewogICAgICByZXNwb25zZTogewogICAgICAgIGFjdGlvbjogJ2NvbXBsZXRlJywKICAgICAgfQogICAgfTsKICB9CgogIGZvciAoY29uc3QgZmlsZSBvZiBmaWxlcykgewogICAgY29uc3QgbGkgPSBkb2N1bWVudC5jcmVhdGVFbGVtZW50KCdsaScpOwogICAgbGkuYXBwZW5kKHNwYW4oZmlsZS5uYW1lLCB7Zm9udFdlaWdodDogJ2JvbGQnfSkpOwogICAgbGkuYXBwZW5kKHNwYW4oCiAgICAgICAgYCgke2ZpbGUudHlwZSB8fCAnbi9hJ30pIC0gJHtmaWxlLnNpemV9IGJ5dGVzLCBgICsKICAgICAgICBgbGFzdCBtb2RpZmllZDogJHsKICAgICAgICAgICAgZmlsZS5sYXN0TW9kaWZpZWREYXRlID8gZmlsZS5sYXN0TW9kaWZpZWREYXRlLnRvTG9jYWxlRGF0ZVN0cmluZygpIDoKICAgICAgICAgICAgICAgICAgICAgICAgICAgICAgICAgICAgJ24vYSd9IC0gYCkpOwogICAgY29uc3QgcGVyY2VudCA9IHNwYW4oJzAlIGRvbmUnKTsKICAgIGxpLmFwcGVuZENoaWxkKHBlcmNlbnQpOwoKICAgIG91dHB1dEVsZW1lbnQuYXBwZW5kQ2hpbGQobGkpOwoKICAgIGNvbnN0IGZpbGVEYXRhUHJvbWlzZSA9IG5ldyBQcm9taXNlKChyZXNvbHZlKSA9PiB7CiAgICAgIGNvbnN0IHJlYWRlciA9IG5ldyBGaWxlUmVhZGVyKCk7CiAgICAgIHJlYWRlci5vbmxvYWQgPSAoZSkgPT4gewogICAgICAgIHJlc29sdmUoZS50YXJnZXQucmVzdWx0KTsKICAgICAgfTsKICAgICAgcmVhZGVyLnJlYWRBc0FycmF5QnVmZmVyKGZpbGUpOwogICAgfSk7CiAgICAvLyBXYWl0IGZvciB0aGUgZGF0YSB0byBiZSByZWFkeS4KICAgIGxldCBmaWxlRGF0YSA9IHlpZWxkIHsKICAgICAgcHJvbWlzZTogZmlsZURhdGFQcm9taXNlLAogICAgICByZXNwb25zZTogewogICAgICAgIGFjdGlvbjogJ2NvbnRpbnVlJywKICAgICAgfQogICAgfTsKCiAgICAvLyBVc2UgYSBjaHVua2VkIHNlbmRpbmcgdG8gYXZvaWQgbWVzc2FnZSBzaXplIGxpbWl0cy4gU2VlIGIvNjIxMTU2NjAuCiAgICBsZXQgcG9zaXRpb24gPSAwOwogICAgZG8gewogICAgICBjb25zdCBsZW5ndGggPSBNYXRoLm1pbihmaWxlRGF0YS5ieXRlTGVuZ3RoIC0gcG9zaXRpb24sIE1BWF9QQVlMT0FEX1NJWkUpOwogICAgICBjb25zdCBjaHVuayA9IG5ldyBVaW50OEFycmF5KGZpbGVEYXRhLCBwb3NpdGlvbiwgbGVuZ3RoKTsKICAgICAgcG9zaXRpb24gKz0gbGVuZ3RoOwoKICAgICAgY29uc3QgYmFzZTY0ID0gYnRvYShTdHJpbmcuZnJvbUNoYXJDb2RlLmFwcGx5KG51bGwsIGNodW5rKSk7CiAgICAgIHlpZWxkIHsKICAgICAgICByZXNwb25zZTogewogICAgICAgICAgYWN0aW9uOiAnYXBwZW5kJywKICAgICAgICAgIGZpbGU6IGZpbGUubmFtZSwKICAgICAgICAgIGRhdGE6IGJhc2U2NCwKICAgICAgICB9LAogICAgICB9OwoKICAgICAgbGV0IHBlcmNlbnREb25lID0gZmlsZURhdGEuYnl0ZUxlbmd0aCA9PT0gMCA/CiAgICAgICAgICAxMDAgOgogICAgICAgICAgTWF0aC5yb3VuZCgocG9zaXRpb24gLyBmaWxlRGF0YS5ieXRlTGVuZ3RoKSAqIDEwMCk7CiAgICAgIHBlcmNlbnQudGV4dENvbnRlbnQgPSBgJHtwZXJjZW50RG9uZX0lIGRvbmVgOwoKICAgIH0gd2hpbGUgKHBvc2l0aW9uIDwgZmlsZURhdGEuYnl0ZUxlbmd0aCk7CiAgfQoKICAvLyBBbGwgZG9uZS4KICB5aWVsZCB7CiAgICByZXNwb25zZTogewogICAgICBhY3Rpb246ICdjb21wbGV0ZScsCiAgICB9CiAgfTsKfQoKc2NvcGUuZ29vZ2xlID0gc2NvcGUuZ29vZ2xlIHx8IHt9OwpzY29wZS5nb29nbGUuY29sYWIgPSBzY29wZS5nb29nbGUuY29sYWIgfHwge307CnNjb3BlLmdvb2dsZS5jb2xhYi5fZmlsZXMgPSB7CiAgX3VwbG9hZEZpbGVzLAogIF91cGxvYWRGaWxlc0NvbnRpbnVlLAp9Owp9KShzZWxmKTsK",
              "ok": true,
              "headers": [
                [
                  "content-type",
                  "application/javascript"
                ]
              ],
              "status": 200,
              "status_text": ""
            }
          },
          "base_uri": "https://localhost:8080/",
          "height": 73
        },
        "id": "D-bP74IrldJQ",
        "outputId": "ae7b3c61-f3f3-4bbf-ccf6-0694cc485a33"
      },
      "source": [
        "from google.colab import files\n",
        "upload = files.upload()"
      ],
      "execution_count": 1,
      "outputs": [
        {
          "output_type": "display_data",
          "data": {
            "text/html": [
              "\n",
              "     <input type=\"file\" id=\"files-5ec2bcc1-d8f7-41d2-b1b2-f3b2c0b7b806\" name=\"files[]\" multiple disabled\n",
              "        style=\"border:none\" />\n",
              "     <output id=\"result-5ec2bcc1-d8f7-41d2-b1b2-f3b2c0b7b806\">\n",
              "      Upload widget is only available when the cell has been executed in the\n",
              "      current browser session. Please rerun this cell to enable.\n",
              "      </output>\n",
              "      <script src=\"/nbextensions/google.colab/files.js\"></script> "
            ],
            "text/plain": [
              "<IPython.core.display.HTML object>"
            ]
          },
          "metadata": {}
        },
        {
          "output_type": "stream",
          "name": "stdout",
          "text": [
            "Saving Iris.csv to Iris.csv\n"
          ]
        }
      ]
    },
    {
      "cell_type": "markdown",
      "metadata": {
        "id": "nHuetgFNrHQA"
      },
      "source": [
        "**Change the feature name \"Species\" to \"Target\"** &\n",
        "\n",
        "**Encode the Target feature to Numerical feature**\n",
        "\n"
      ]
    },
    {
      "cell_type": "code",
      "metadata": {
        "colab": {
          "base_uri": "https://localhost:8080/"
        },
        "id": "ZRcQyNGrlrfh",
        "outputId": "038cee9e-6f07-408a-838d-4991d56d916f"
      },
      "source": [
        "import pandas as pd\n",
        "import numpy as np\n",
        "\n",
        "df = pd.read_csv(\"Iris.csv\")\n",
        "df.head()\n",
        "column_names = list(df.columns)\n",
        "#print(column_names)\n",
        "df = df.rename(columns= {\"Species\": \"Target\"})\n",
        "print(df.head())\n",
        "#df.Target.unique()"
      ],
      "execution_count": 194,
      "outputs": [
        {
          "output_type": "stream",
          "name": "stdout",
          "text": [
            "   Id  SepalLengthCm  SepalWidthCm  PetalLengthCm  PetalWidthCm       Target\n",
            "0   1            5.1           3.5            1.4           0.2  Iris-setosa\n",
            "1   2            4.9           3.0            1.4           0.2  Iris-setosa\n",
            "2   3            4.7           3.2            1.3           0.2  Iris-setosa\n",
            "3   4            4.6           3.1            1.5           0.2  Iris-setosa\n",
            "4   5            5.0           3.6            1.4           0.2  Iris-setosa\n"
          ]
        }
      ]
    },
    {
      "cell_type": "code",
      "metadata": {
        "colab": {
          "base_uri": "https://localhost:8080/",
          "height": 206
        },
        "id": "ESvXr_6hpuZq",
        "outputId": "8fa1f927-66a8-4b7b-e4a3-7a01586edd60"
      },
      "source": [
        "from sklearn.preprocessing import LabelEncoder\n",
        "le = LabelEncoder()\n",
        "Target_encoded = le.fit_transform(df['Target'])\n",
        "df['Target'] = Target_encoded\n",
        "df.head()"
      ],
      "execution_count": 182,
      "outputs": [
        {
          "output_type": "execute_result",
          "data": {
            "text/html": [
              "<div>\n",
              "<style scoped>\n",
              "    .dataframe tbody tr th:only-of-type {\n",
              "        vertical-align: middle;\n",
              "    }\n",
              "\n",
              "    .dataframe tbody tr th {\n",
              "        vertical-align: top;\n",
              "    }\n",
              "\n",
              "    .dataframe thead th {\n",
              "        text-align: right;\n",
              "    }\n",
              "</style>\n",
              "<table border=\"1\" class=\"dataframe\">\n",
              "  <thead>\n",
              "    <tr style=\"text-align: right;\">\n",
              "      <th></th>\n",
              "      <th>Id</th>\n",
              "      <th>SepalLengthCm</th>\n",
              "      <th>SepalWidthCm</th>\n",
              "      <th>PetalLengthCm</th>\n",
              "      <th>PetalWidthCm</th>\n",
              "      <th>Target</th>\n",
              "    </tr>\n",
              "  </thead>\n",
              "  <tbody>\n",
              "    <tr>\n",
              "      <th>0</th>\n",
              "      <td>1</td>\n",
              "      <td>5.1</td>\n",
              "      <td>3.5</td>\n",
              "      <td>1.4</td>\n",
              "      <td>0.2</td>\n",
              "      <td>0</td>\n",
              "    </tr>\n",
              "    <tr>\n",
              "      <th>1</th>\n",
              "      <td>2</td>\n",
              "      <td>4.9</td>\n",
              "      <td>3.0</td>\n",
              "      <td>1.4</td>\n",
              "      <td>0.2</td>\n",
              "      <td>0</td>\n",
              "    </tr>\n",
              "    <tr>\n",
              "      <th>2</th>\n",
              "      <td>3</td>\n",
              "      <td>4.7</td>\n",
              "      <td>3.2</td>\n",
              "      <td>1.3</td>\n",
              "      <td>0.2</td>\n",
              "      <td>0</td>\n",
              "    </tr>\n",
              "    <tr>\n",
              "      <th>3</th>\n",
              "      <td>4</td>\n",
              "      <td>4.6</td>\n",
              "      <td>3.1</td>\n",
              "      <td>1.5</td>\n",
              "      <td>0.2</td>\n",
              "      <td>0</td>\n",
              "    </tr>\n",
              "    <tr>\n",
              "      <th>4</th>\n",
              "      <td>5</td>\n",
              "      <td>5.0</td>\n",
              "      <td>3.6</td>\n",
              "      <td>1.4</td>\n",
              "      <td>0.2</td>\n",
              "      <td>0</td>\n",
              "    </tr>\n",
              "  </tbody>\n",
              "</table>\n",
              "</div>"
            ],
            "text/plain": [
              "   Id  SepalLengthCm  SepalWidthCm  PetalLengthCm  PetalWidthCm  Target\n",
              "0   1            5.1           3.5            1.4           0.2       0\n",
              "1   2            4.9           3.0            1.4           0.2       0\n",
              "2   3            4.7           3.2            1.3           0.2       0\n",
              "3   4            4.6           3.1            1.5           0.2       0\n",
              "4   5            5.0           3.6            1.4           0.2       0"
            ]
          },
          "metadata": {},
          "execution_count": 182
        }
      ]
    },
    {
      "cell_type": "markdown",
      "metadata": {
        "id": "gaUi4my5ucF3"
      },
      "source": [
        "3. Split Train & Test Datasets."
      ]
    },
    {
      "cell_type": "code",
      "metadata": {
        "id": "lcGzMAySs91n"
      },
      "source": [
        "from sklearn.model_selection import train_test_split\n",
        "\n",
        "X = df.drop([\"Id\", \"Target\"], axis=1)\n",
        "#X.head()\n",
        "y = df[\"Target\"]\n",
        "#y.head()\n",
        "X_train, X_test, y_train, y_test = train_test_split(X,y, train_size = .75, test_size = 0.25, random_state = 1)\n",
        "#print(df.shape)\n",
        "#len(X_train)+len(X_test)"
      ],
      "execution_count": 183,
      "outputs": []
    },
    {
      "cell_type": "markdown",
      "metadata": {
        "id": "qR2SHYkZvWXM"
      },
      "source": [
        "**Create KNN Classifier**"
      ]
    },
    {
      "cell_type": "code",
      "metadata": {
        "colab": {
          "base_uri": "https://localhost:8080/"
        },
        "id": "1RiCm52dvcN9",
        "outputId": "d1fe3e20-3466-4e4c-d202-d183a0f4dd70"
      },
      "source": [
        "#from sklearn.neighbors import KNeighborsClassifier\n",
        "\n",
        "#knn = KNeighborsClassifier (n_neighbors=13)\n",
        "#knn.fit(X_train, y_train)\n",
        "#knn.score(X_test, y_test)"
      ],
      "execution_count": 133,
      "outputs": [
        {
          "output_type": "execute_result",
          "data": {
            "text/plain": [
              "0.9736842105263158"
            ]
          },
          "metadata": {},
          "execution_count": 133
        }
      ]
    },
    {
      "cell_type": "code",
      "metadata": {
        "colab": {
          "base_uri": "https://localhost:8080/"
        },
        "id": "66VsRZN8v_t-",
        "outputId": "78a83b0e-e3c2-45f8-bb4a-76b3b0f0440e"
      },
      "source": [
        "#knn.predict([[4.8, 3.0, 1.5, 0.3]])"
      ],
      "execution_count": 69,
      "outputs": [
        {
          "output_type": "stream",
          "name": "stderr",
          "text": [
            "/usr/local/lib/python3.7/dist-packages/sklearn/base.py:446: UserWarning: X does not have valid feature names, but KNeighborsClassifier was fitted with feature names\n",
            "  \"X does not have valid feature names, but\"\n"
          ]
        },
        {
          "output_type": "execute_result",
          "data": {
            "text/plain": [
              "array([0])"
            ]
          },
          "metadata": {},
          "execution_count": 69
        }
      ]
    },
    {
      "cell_type": "markdown",
      "metadata": {
        "id": "J3BmrO-Y_lBp"
      },
      "source": [
        "**Confusion Matrix - Determine and Plot**"
      ]
    },
    {
      "cell_type": "code",
      "metadata": {
        "id": "ZkUrw7HI_p14"
      },
      "source": [
        "#from sklearn.metrics import confusion_matrix\n",
        "#y_pred = knn.predict(X_test)\n",
        "#cm = confusion_matrix(y_test, y_pred)"
      ],
      "execution_count": 79,
      "outputs": []
    },
    {
      "cell_type": "code",
      "metadata": {
        "colab": {
          "base_uri": "https://localhost:8080/",
          "height": 334
        },
        "id": "S3ZnDwNiAksJ",
        "outputId": "d97c2ae7-7a00-4d7c-d7ff-109f2e85ed69"
      },
      "source": [
        "#import matplotlib.pyplot as plt\n",
        "\n",
        "#plot_confusion_matrix(knn, X_test, y_test)\n",
        "#plt.show()"
      ],
      "execution_count": 80,
      "outputs": [
        {
          "output_type": "stream",
          "name": "stderr",
          "text": [
            "/usr/local/lib/python3.7/dist-packages/sklearn/utils/deprecation.py:87: FutureWarning: Function plot_confusion_matrix is deprecated; Function `plot_confusion_matrix` is deprecated in 1.0 and will be removed in 1.2. Use one of the class methods: ConfusionMatrixDisplay.from_predictions or ConfusionMatrixDisplay.from_estimator.\n",
            "  warnings.warn(msg, category=FutureWarning)\n"
          ]
        },
        {
          "output_type": "display_data",
          "data": {
            "image/png": "[encoded data removed]",
            "text/plain": [
              "<Figure size 432x288 with 2 Axes>"
            ]
          },
          "metadata": {
            "needs_background": "light"
          }
        }
      ]
    },
    {
      "cell_type": "markdown",
      "metadata": {
        "id": "XfnaYH64Bs1o"
      },
      "source": [
        "**Print Classification Report - Precision, Recall and F1 score**"
      ]
    },
    {
      "cell_type": "code",
      "metadata": {
        "colab": {
          "base_uri": "https://localhost:8080/"
        },
        "id": "kja1XIg4CKeR",
        "outputId": "4817b2fd-50e7-43c9-c894-441df6b520e4"
      },
      "source": [
        "#from sklearn.metrics import classification_report\n",
        "\n",
        " ##print(classification_report(y_test, y_pred, target_names=target_names))\n",
        "#print(classification_report(y_test, y_pred, target_names = df.Target.unique()))"
      ],
      "execution_count": 88,
      "outputs": [
        {
          "output_type": "stream",
          "name": "stdout",
          "text": [
            "                 precision    recall  f1-score   support\n",
            "\n",
            "    Iris-setosa       1.00      1.00      1.00        13\n",
            "Iris-versicolor       1.00      0.94      0.97        16\n",
            " Iris-virginica       0.90      1.00      0.95         9\n",
            "\n",
            "       accuracy                           0.97        38\n",
            "      macro avg       0.97      0.98      0.97        38\n",
            "   weighted avg       0.98      0.97      0.97        38\n",
            "\n"
          ]
        }
      ]
    },
    {
      "cell_type": "markdown",
      "metadata": {
        "id": "1qn4iLxLIdJt"
      },
      "source": [
        "**CROSS VALIDATION**"
      ]
    },
    {
      "cell_type": "markdown",
      "metadata": {
        "id": "mDkl5NQlTmmB"
      },
      "source": [
        ""
      ]
    },
    {
      "cell_type": "markdown",
      "metadata": {
        "id": "JQnsSCwWfhtf"
      },
      "source": [
        "1. Split the data into X equal paritions / folds\n",
        "\n",
        "2. use fold 1 as the test set and the (X-1) folds as train set\n",
        "\n",
        "3.  Calculate test accuracy\n",
        "\n",
        "4.  Repeat these steps 2, 3 for X times\n",
        "\n",
        "5. Use the average of all these X testing accuracies as the estimate of sample accuracy"
      ]
    },
    {
      "cell_type": "markdown",
      "metadata": {
        "id": "RDiEjva8gnHB"
      },
      "source": [
        "![image.png](data:image/png;base64,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)"
      ]
    },
    {
      "cell_type": "markdown",
      "metadata": {
        "id": "6KvZSwfNJFJs"
      },
      "source": [
        "sample-Ruff"
      ]
    },
    {
      "cell_type": "code",
      "metadata": {
        "colab": {
          "base_uri": "https://localhost:8080/"
        },
        "id": "zRiB3oRAJCy3",
        "outputId": "a27a510b-7457-402d-a3a1-1d1e09248172"
      },
      "source": [
        "from sklearn.neighbors import KNeighborsClassifier\n",
        "from sklearn.model_selection import cross_val_score\n",
        "\n",
        "knn = KNeighborsClassifier (n_neighbors=5)\n",
        "scores = cross_val_score(knn, X, y , cv = 10, scoring= 'accuracy')\n",
        "print(scores.mean())"
      ],
      "execution_count": 90,
      "outputs": [
        {
          "output_type": "stream",
          "name": "stdout",
          "text": [
            "0.9666666666666668\n"
          ]
        }
      ]
    },
    {
      "cell_type": "markdown",
      "metadata": {
        "id": "Ejm66gAKKCR9"
      },
      "source": [
        "4. Grid search or Cross validation and find the Best hyper parameter - (k - no. of nearest neighbors).\n",
        "**Note: update the range cv**"
      ]
    },
    {
      "cell_type": "code",
      "metadata": {
        "colab": {
          "base_uri": "https://localhost:8080/"
        },
        "id": "gik8HrybIgG0",
        "outputId": "b99b83c0-6a60-4f8f-88a7-a8ec286cdca3"
      },
      "source": [
        "from sklearn.neighbors import KNeighborsClassifier\n",
        "from sklearn.model_selection import cross_val_score\n",
        "k_range = range(1,40)\n",
        "k_scores = []\n",
        "\n",
        "for k in k_range:\n",
        "  knn = KNeighborsClassifier (n_neighbors = k)\n",
        "  scores = cross_val_score(knn, X_train, y_train , cv = 10, scoring= 'accuracy')\n",
        "  k_scores.append(scores.mean())\n",
        "\n",
        "k_opt = k_range[np.argmax(k_scores)]\n",
        "k_opt"
      ],
      "execution_count": 184,
      "outputs": [
        {
          "output_type": "execute_result",
          "data": {
            "text/plain": [
              "8"
            ]
          },
          "metadata": {},
          "execution_count": 184
        }
      ]
    },
    {
      "cell_type": "markdown",
      "metadata": {
        "id": "znrWr4UgOAZe"
      },
      "source": [
        "**Plot mean score Vs k**"
      ]
    },
    {
      "cell_type": "code",
      "metadata": {
        "colab": {
          "base_uri": "https://localhost:8080/",
          "height": 282
        },
        "id": "uqlacQL0OHYL",
        "outputId": "6ec72fc0-f577-4041-c114-09a6a1d974bb"
      },
      "source": [
        "import seaborn as sn\n",
        "\n",
        "sn.lineplot(x=k_range, y=k_scores)"
      ],
      "execution_count": 185,
      "outputs": [
        {
          "output_type": "execute_result",
          "data": {
            "text/plain": [
              "<matplotlib.axes._subplots.AxesSubplot at 0x7f930e9c1550>"
            ]
          },
          "metadata": {},
          "execution_count": 185
        },
        {
          "output_type": "display_data",
          "data": {
            "image/png": "[encoded data removed]",
            "text/plain": [
              "<Figure size 432x288 with 1 Axes>"
            ]
          },
          "metadata": {
            "needs_background": "light"
          }
        }
      ]
    },
    {
      "cell_type": "markdown",
      "metadata": {
        "id": "Gv2UZc9gQFhx"
      },
      "source": [
        "**Grid search**"
      ]
    },
    {
      "cell_type": "code",
      "metadata": {
        "colab": {
          "base_uri": "https://localhost:8080/"
        },
        "id": "PI9u3m-0QJE8",
        "outputId": "27c624b7-73e0-4b7a-e31b-520a5e7b7def"
      },
      "source": [
        "from sklearn.model_selection import GridSearchCV\n",
        "\n",
        "k_range=list(range(1,40))\n",
        "grid_params = dict(n_neighbors = k_range)\n",
        "grid = GridSearchCV(knn, grid_params, cv=10, scoring='accuracy', return_train_score=False,verbose=1)\n",
        "\n",
        "grid_search = grid.fit(X_train, y_train)"
      ],
      "execution_count": 186,
      "outputs": [
        {
          "output_type": "stream",
          "name": "stdout",
          "text": [
            "Fitting 10 folds for each of 39 candidates, totalling 390 fits\n"
          ]
        }
      ]
    },
    {
      "cell_type": "markdown",
      "metadata": {
        "id": "nePnq6DNRlIj"
      },
      "source": [
        "**Print Best parameters outof Gridsearch**"
      ]
    },
    {
      "cell_type": "code",
      "metadata": {
        "colab": {
          "base_uri": "https://localhost:8080/"
        },
        "id": "qDwNkT8XRqf6",
        "outputId": "0a244114-0903-4e0c-9f25-aadc35307700"
      },
      "source": [
        "k_opt = grid_search.best_params_\n",
        "print(k_opt)\n",
        "k_opt1 = k_opt['n_neighbors']\n",
        "k_opt1"
      ],
      "execution_count": 187,
      "outputs": [
        {
          "output_type": "stream",
          "name": "stdout",
          "text": [
            "{'n_neighbors': 8}\n"
          ]
        },
        {
          "output_type": "execute_result",
          "data": {
            "text/plain": [
              "8"
            ]
          },
          "metadata": {},
          "execution_count": 187
        }
      ]
    },
    {
      "cell_type": "markdown",
      "metadata": {
        "id": "vdpiC_gAgVJ2"
      },
      "source": [
        "**5. Predict 'y' against 'X_test' using Grid Search Result - Optimum k ** "
      ]
    },
    {
      "cell_type": "code",
      "metadata": {
        "colab": {
          "base_uri": "https://localhost:8080/"
        },
        "id": "xtaTWdzaifUc",
        "outputId": "412cac91-b7ff-42f7-c01f-cdfa0dd55ffd"
      },
      "source": [
        "from sklearn.neighbors import KNeighborsClassifier\n",
        "\n",
        "knn = KNeighborsClassifier (n_neighbors=k_opt1)\n",
        "knn.fit(X_train, y_train)\n",
        "#knn.score(X_test, y_test)\n",
        "\n",
        "y_pred1 = knn.predict(X_test)\n",
        "print(y_pred1)\n"
      ],
      "execution_count": 188,
      "outputs": [
        {
          "output_type": "stream",
          "name": "stdout",
          "text": [
            "[0 1 1 0 2 1 2 0 0 2 1 0 2 1 1 0 1 1 0 0 1 1 1 0 2 1 0 0 1 2 1 2 1 2 2 0 1\n",
            " 0]\n"
          ]
        }
      ]
    },
    {
      "cell_type": "markdown",
      "metadata": {
        "id": "CmoGBFfNn4VN"
      },
      "source": [
        "6. Print Classification Report"
      ]
    },
    {
      "cell_type": "code",
      "metadata": {
        "colab": {
          "base_uri": "https://localhost:8080/"
        },
        "id": "f63WJgr1jc5o",
        "outputId": "b423be81-0de6-4f2e-88ed-78809b0c2770"
      },
      "source": [
        "from sklearn.metrics import classification_report\n",
        "\n",
        "\n",
        " #print(classification_report(y_test, y_pred, target_names=target_names))\n",
        "\n",
        "print(classification_report(y_test, y_pred1, target_names = df.Target.unique()))"
      ],
      "execution_count": 195,
      "outputs": [
        {
          "output_type": "stream",
          "name": "stdout",
          "text": [
            "                 precision    recall  f1-score   support\n",
            "\n",
            "    Iris-setosa       1.00      1.00      1.00        13\n",
            "Iris-versicolor       1.00      1.00      1.00        16\n",
            " Iris-virginica       1.00      1.00      1.00         9\n",
            "\n",
            "       accuracy                           1.00        38\n",
            "      macro avg       1.00      1.00      1.00        38\n",
            "   weighted avg       1.00      1.00      1.00        38\n",
            "\n"
          ]
        }
      ]
    }
  ]
}